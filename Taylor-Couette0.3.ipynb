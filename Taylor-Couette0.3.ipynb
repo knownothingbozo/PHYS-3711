{
 "cells": [
  {
   "cell_type": "code",
   "execution_count": 454,
   "id": "a4dd49f5-c16c-468f-a9b9-8593d23821ad",
   "metadata": {},
   "outputs": [],
   "source": [
    "import numpy as np\n",
    "import scipy as sp\n",
    "import matplotlib.pyplot as plt\n",
    "from IPython.core.interactiveshell import InteractiveShell\n",
    "InteractiveShell.ast_node_interactivity = 'all'"
   ]
  },
  {
   "cell_type": "markdown",
   "id": "1181246f-e8d7-4c0c-9f61-5c02a9acc372",
   "metadata": {},
   "source": [
    "# Stability plot of the Taylor Couette flow for m=0"
   ]
  },
  {
   "cell_type": "markdown",
   "id": "a9c9dc1f-e7c4-4c65-ba7f-dbda6457f9d3",
   "metadata": {},
   "source": [
    "The dynamical system."
   ]
  },
  {
   "cell_type": "code",
   "execution_count": 608,
   "id": "d22b8592-67f7-4c92-bf64-ce0e6bd1358b",
   "metadata": {},
   "outputs": [],
   "source": [
    "def func(r,c,x):\n",
    "    return np.array([-x[0]/r+c[1]*x[2]-(1j *c[2]/r)*x[1],\n",
    "                     -x[1]/r+x[4],\n",
    "                     x[5],\n",
    "                     c[0]*x[0]+(c[2]**2/r**2+c[1]**2)*x[0]-2*C(r, c)*x[1]+1j*c[2]*(2*x[1]/r**2+C(r, c)*x[0]),\n",
    "                     c[0]*x[1]+(2*c[2]**2/r**2+c[1]**2)*x[1]-2*D(r, c)*x[0]+1j*c[2]*(-2*x[0]/r**2+C(r, c)*x[1]+c[1]*x[2]/r-x[3]/r),\n",
    "                     c[0]*x[2]+(c[2]**2/r**2+2*c[1]**2)*x[2]-x[5]/r-c[1]*x[3]+1j*c[2]*(-c[1]*x[1]/r+C(r, c)*x[2])])\n",
    "\n",
    "def D(r, c): return (c[5]*c[3]-c[4])/(1+c[5])\n",
    "def C(r, c): return -D(r, c)+(c[5]/(1-c[5]))*((c[3]-c[5]*c[4])/(1-c[5]**2))/r**2"
   ]
  },
  {
   "cell_type": "markdown",
   "id": "cd931bb9-487e-439b-86e9-86218b86d706",
   "metadata": {},
   "source": [
    "The Runge-Kutta algorithm."
   ]
  },
  {
   "cell_type": "code",
   "execution_count": 609,
   "id": "1e2c83c2-4fd4-4596-997c-15982c54e1ab",
   "metadata": {},
   "outputs": [],
   "source": [
    "def RK(r,c,x0):\n",
    "\n",
    "    k = np.zeros((4,6),dtype = 'complex64')\n",
    "    x = np.zeros((r.size,6),dtype = 'complex64')\n",
    "    x[0] = x0\n",
    "    h = r[1]-r[0]\n",
    "\n",
    "    for i in range(1, r.size):\n",
    "        k[0] = func(r[i], c, x[i-1])\n",
    "        k[1] = func(r[i], c, x[i-1]+h*k[0]/2)\n",
    "        k[2] = func(r[i], c, x[i-1]+h*k[1]/2)\n",
    "        k[3] = func(r[i], c, x[i-1]+h*k[2])\n",
    "\n",
    "        x[i] = x[i-1]+h*(k[0]+2*k[1]+2*k[2]+k[3])/6\n",
    "    return x"
   ]
  },
  {
   "cell_type": "markdown",
   "id": "550f8f33-4482-41b2-81c9-c21be8d64470",
   "metadata": {},
   "source": [
    "Declaring some variables."
   ]
  },
  {
   "cell_type": "code",
   "execution_count": 610,
   "id": "bfa277d5-6911-4a06-b826-6f0c57052b26",
   "metadata": {},
   "outputs": [
    {
     "data": {
      "text/plain": [
       "0.015340000000000003"
      ]
     },
     "execution_count": 610,
     "metadata": {},
     "output_type": "execute_result"
    },
    {
     "data": {
      "text/plain": [
       "0.6548931383577052"
      ]
     },
     "execution_count": 610,
     "metadata": {},
     "output_type": "execute_result"
    },
    {
     "data": {
      "text/plain": [
       "93.74682995101472"
      ]
     },
     "execution_count": 610,
     "metadata": {},
     "output_type": "execute_result"
    },
    {
     "data": {
      "text/plain": [
       "1.8976531942633634"
      ]
     },
     "execution_count": 610,
     "metadata": {},
     "output_type": "execute_result"
    },
    {
     "data": {
      "text/plain": [
       "0.0"
      ]
     },
     "execution_count": 610,
     "metadata": {},
     "output_type": "execute_result"
    }
   ],
   "source": [
    "a = 0.02911\n",
    "b = 0.04445\n",
    "o1 = 2.1\n",
    "o2 = 0\n",
    "nu = 0.000010003\n",
    "d = b-a\n",
    "r1 = a*o1*d/nu\n",
    "r2 = b*o2*d/nu\n",
    "eta = a/b\n",
    "d\n",
    "eta\n",
    "r1\n",
    "eta/(1-eta)\n",
    "r2"
   ]
  },
  {
   "cell_type": "markdown",
   "id": "4fbca228-1a2a-4241-a451-43b1adf39513",
   "metadata": {},
   "source": [
    "Newton's method solving for initial conditions to hit final point in radial evolution."
   ]
  },
  {
   "cell_type": "code",
   "execution_count": 611,
   "id": "236f60c1-e78c-415e-bea0-83fa6eaacebf",
   "metadata": {},
   "outputs": [
    {
     "name": "stderr",
     "output_type": "stream",
     "text": [
      "/tmp/ipykernel_13934/3821930963.py:31: ComplexWarning: Casting complex values to real discards the imaginary part\n",
      "  c[3] = c[3] - (J**(-1)@yn).A1[0]\n",
      "/tmp/ipykernel_13934/3821930963.py:32: ComplexWarning: Casting complex values to real discards the imaginary part\n",
      "  x0a[i] = x0\n"
     ]
    }
   ],
   "source": [
    "# sig, k, m, r1, r2, u, v, w, x, y, z\n",
    "c = np.array([0, 3.3, 0, 50, r2, eta])\n",
    "x0 = np.array([0, 0, 0, 1, 1, 1])\n",
    "r = np.linspace(eta/(1-eta), 1/(1-eta), 500)\n",
    "h = 0.01\n",
    "lam = np.linspace(1,8,20)\n",
    "x0a = np.zeros((len(lam),6))\n",
    "ca = np.zeros(len(lam))\n",
    "for i in range(len(lam)):\n",
    "    c[1] = lam[i]\n",
    "    x0 = np.array([0, 0, 0, 1, 1, 1])\n",
    "    for j in range(4):\n",
    "    \n",
    "        yn = RK(r, c, x0)[-1,:3]\n",
    "    \n",
    "        h_arrc = np.array([0,0,0,h,0,0])\n",
    "        yrn = (RK(r, c+h_arrc, x0)[-1,:3]-yn)/(h)\n",
    "    \n",
    "        h_arry = np.array([0,0,0,0,h,0])\n",
    "        yyn = (RK(r, c, x0+h_arry)[-1,:3]-yn)/(h)\n",
    "        \n",
    "        h_arrz = np.array([0,0,0,0,0,h])\n",
    "        yzn = (RK(r,c, x0+h_arrz)[-1,:3]-yn)/(h)\n",
    "    \n",
    "        J = np.matrix([[*yrn],[*yyn],[*yzn]]).T\n",
    "        \n",
    "        xn0 = x0[-2:]\n",
    "        xn1 = xn0-(J**(-1)@yn).A1[-2:]\n",
    "        x0 = np.array([0, 0, 0, 1, *xn1])\n",
    "        #x0 = x0/np.linalg.norm(x0, ord=2)\n",
    "        c[3] = c[3] - (J**(-1)@yn).A1[0]\n",
    "    x0a[i] = x0\n",
    "    ca[i] = c[3]\n",
    "\n",
    "    # c[3]\n",
    "    # x0\n",
    "    # RK(r, c, x0)[-1]"
   ]
  },
  {
   "cell_type": "code",
   "execution_count": 612,
   "id": "d0ecb6c4-73db-41a0-8634-aa91d4c0f0d2",
   "metadata": {},
   "outputs": [
    {
     "data": {
      "text/plain": [
       "array([[ 0.0000000e+00+0.j,  0.0000000e+00+0.j,  0.0000000e+00+0.j,\n",
       "         1.0000000e+00+0.j,  2.7974531e-01+0.j,  4.8027641e-01+0.j],\n",
       "       [ 3.4319914e-06+0.j,  5.6032103e-04+0.j,  9.5480273e-04+0.j,\n",
       "         9.9995500e-01+0.j,  2.7975237e-01+0.j,  4.7262624e-01+0.j],\n",
       "       [ 1.3650015e-05+0.j,  1.1200800e-03+0.j,  1.8943324e-03+0.j,\n",
       "         9.9982065e-01+0.j,  2.7977297e-01+0.j,  4.6503389e-01+0.j],\n",
       "       ...,\n",
       "       [ 6.2942454e-06+0.j,  7.8335393e-04+0.j, -9.3528809e-04+0.j,\n",
       "        -4.1329628e-01+0.j, -1.9511722e-01+0.j,  2.3042259e-01+0.j],\n",
       "       [ 1.2462933e-06+0.j,  3.9194702e-04+0.j, -4.7074977e-04+0.j,\n",
       "        -4.1329628e-01+0.j, -1.9510256e-01+0.j,  2.3319030e-01+0.j],\n",
       "       [-4.4760009e-07+0.j,  8.3079794e-07+0.j, -6.4269989e-07+0.j,\n",
       "        -4.1329628e-01+0.j, -1.9509754e-01+0.j,  2.3598020e-01+0.j]],\n",
       "      dtype=complex64)"
      ]
     },
     "execution_count": 612,
     "metadata": {},
     "output_type": "execute_result"
    }
   ],
   "source": [
    "# c = np.array([0, 3, 0, 94, r2, eta])\n",
    "# x0 = np.array([ 0,  0,  0,-1.62981451e-09,  3.27418093e-11, -9.54969437e-11])\n",
    "# r = np.linspace(eta/(1-eta), 1/(1-eta), 5000)\n",
    "nn = 7\n",
    "y = RK(r, np.array([0, lam[nn], 0, ca[nn], r2, eta]), x0a[nn])\n",
    "y"
   ]
  },
  {
   "cell_type": "code",
   "execution_count": 613,
   "id": "9a8e4e00-43b9-4f75-8c79-4110b3c9b3a7",
   "metadata": {},
   "outputs": [
    {
     "data": {
      "text/plain": [
       "[<matplotlib.lines.Line2D at 0x7977e81858b0>]"
      ]
     },
     "execution_count": 613,
     "metadata": {},
     "output_type": "execute_result"
    },
    {
     "data": {
      "text/plain": [
       "[<matplotlib.lines.Line2D at 0x7977e81398e0>]"
      ]
     },
     "execution_count": 613,
     "metadata": {},
     "output_type": "execute_result"
    },
    {
     "data": {
      "text/plain": [
       "[<matplotlib.lines.Line2D at 0x7977e80fade0>]"
      ]
     },
     "execution_count": 613,
     "metadata": {},
     "output_type": "execute_result"
    },
    {
     "data": {
      "image/png": "[encoded data removed]",
      "text/plain": [
       "<Figure size 800x400 with 3 Axes>"
      ]
     },
     "metadata": {},
     "output_type": "display_data"
    }
   ],
   "source": [
    "fig = plt.figure(figsize=(8,4), layout='constrained')\n",
    "ax1 = fig.add_subplot(1, 3, 1, title='', xlabel='$u$', ylabel='', )\n",
    "ax1.plot(r, y[:,0], color='black')\n",
    "ax1 = fig.add_subplot(1, 3, 2, title='', xlabel='$v$', ylabel='', )\n",
    "ax1.plot(r, y[:,1], color='black')\n",
    "ax1 = fig.add_subplot(1, 3, 3, title='', xlabel='$w$', ylabel='', )\n",
    "ax1.plot(r, y[:,2], color='black')"
   ]
  },
  {
   "cell_type": "code",
   "execution_count": 614,
   "id": "53ad4b86-8d4b-4fff-92fd-fbd40796787d",
   "metadata": {},
   "outputs": [
    {
     "data": {
      "text/plain": [
       "array([2.08844158-1.48489667j, 2.08844158+1.48489667j,\n",
       "       3.17580807+0.j        , 5.45665658-2.157101j  ,\n",
       "       5.45665658+2.157101j  , 8.19453691-1.02744643j,\n",
       "       8.19453691+1.02744643j])"
      ]
     },
     "execution_count": 614,
     "metadata": {},
     "output_type": "execute_result"
    },
    {
     "data": {
      "text/plain": [
       "(3.175808069318093+0j)"
      ]
     },
     "execution_count": 614,
     "metadata": {},
     "output_type": "execute_result"
    }
   ],
   "source": [
    "cheby = np.polynomial.chebyshev.Chebyshev\n",
    "chebyfit = cheby.fit(lam,ca,8)\n",
    "chebyfit.deriv(1).roots()\n",
    "chebyfit.deriv(1).roots()[2]"
   ]
  },
  {
   "cell_type": "code",
   "execution_count": 619,
   "id": "f54a0b9d-884c-4b2e-bf6d-74b6c70e002d",
   "metadata": {},
   "outputs": [
    {
     "data": {
      "image/png": "[encoded data removed]",
      "text/plain": [
       "<Figure size 400x400 with 1 Axes>"
      ]
     },
     "metadata": {},
     "output_type": "display_data"
    }
   ],
   "source": [
    "fig = plt.figure(figsize=(4,4), layout='constrained')\n",
    "fig.suptitle(r'$m=0, \\eta={0:1.5f}, R_2=0$'.format(eta))\n",
    "ax1 = fig.add_subplot(1, 1, 1, title='', xlabel=r'$k$', ylabel=r'$R_1$', )\n",
    "ax1.plot(np.linspace(0.9, 8.1, 100), chebyfit(np.linspace(0.9, 8.1, 100)))\n",
    "ax1.scatter(lam, ca)\n",
    "ax1.scatter(chebyfit.deriv(1).roots()[2], chebyfit(chebyfit.deriv(1).roots()[2]), \n",
    "            label=r'$(k_c d, R_1c) = ({0:1.3f}, {1:1.3f})$'.format(np.real(chebyfit.deriv(1).roots()[2]), np.real(chebyfit(chebyfit.deriv(1).roots()[2]))))\n",
    "ax1.legend()\n",
    "plt.show;"
   ]
  },
  {
   "cell_type": "markdown",
   "id": "2c193747-f2a3-40db-9961-7b8898b490e9",
   "metadata": {},
   "source": [
    "## Plotting $R_2$ vs $R_1$ critical lines"
   ]
  },
  {
   "cell_type": "code",
   "execution_count": 583,
   "id": "4f894248-65e4-4561-9424-4fcdb48ef008",
   "metadata": {},
   "outputs": [
    {
     "data": {
      "text/plain": [
       "0.015340000000000003"
      ]
     },
     "execution_count": 583,
     "metadata": {},
     "output_type": "execute_result"
    },
    {
     "data": {
      "text/plain": [
       "0.6548931383577052"
      ]
     },
     "execution_count": 583,
     "metadata": {},
     "output_type": "execute_result"
    },
    {
     "data": {
      "text/plain": [
       "93.74682995101472"
      ]
     },
     "execution_count": 583,
     "metadata": {},
     "output_type": "execute_result"
    },
    {
     "data": {
      "text/plain": [
       "1.8976531942633634"
      ]
     },
     "execution_count": 583,
     "metadata": {},
     "output_type": "execute_result"
    },
    {
     "data": {
      "text/plain": [
       "-100"
      ]
     },
     "execution_count": 583,
     "metadata": {},
     "output_type": "execute_result"
    }
   ],
   "source": [
    "a = 0.02911\n",
    "b = 0.04445\n",
    "o1 = 2.1\n",
    "o2 = 0\n",
    "nu = 0.000010003\n",
    "d = b-a\n",
    "r1 = a*o1*d/nu\n",
    "r2 = -100\n",
    "eta = a/b\n",
    "d\n",
    "eta\n",
    "r1\n",
    "eta/(1-eta)\n",
    "r2"
   ]
  },
  {
   "cell_type": "code",
   "execution_count": 584,
   "id": "14c3ea46-fe9b-4895-af29-33890d578256",
   "metadata": {},
   "outputs": [
    {
     "name": "stderr",
     "output_type": "stream",
     "text": [
      "/tmp/ipykernel_13934/3388875056.py:34: ComplexWarning: Casting complex values to real discards the imaginary part\n",
      "  c[3] = c[3] - (J**(-1)@yn).A1[0]\n",
      "/tmp/ipykernel_13934/3388875056.py:35: ComplexWarning: Casting complex values to real discards the imaginary part\n",
      "  x0a[k,i] = x0\n"
     ]
    }
   ],
   "source": [
    "# sig, k, m, r1, r2, u, v, w, x, y, z\n",
    "c = np.array([0, 3.3, 0, 50, r2, eta])\n",
    "x0 = np.array([0, 0, 0, 1, 1, 1])\n",
    "r = np.linspace(eta/(1-eta), 1/(1-eta), 250)\n",
    "h = 0.01\n",
    "lam = np.linspace(1,8,20)\n",
    "r2 = np.linspace(0,-100,10)\n",
    "x0a = np.zeros((len(r2),len(lam),6))\n",
    "ca = np.zeros((len(r2),len(lam)))\n",
    "for k in range(len(r2)):\n",
    "    c[4] = r2[k]\n",
    "    for i in range(len(lam)):\n",
    "        c[1] = lam[i]\n",
    "        x0 = np.array([0, 0, 0, 1, 1, 1])\n",
    "        for j in range(5):\n",
    "        \n",
    "            yn = RK(r, c, x0)[-1,:3]\n",
    "        \n",
    "            h_arrc = np.array([0,0,0,h,0,0])\n",
    "            yrn = (RK(r, c+h_arrc, x0)[-1,:3]-yn)/(h)\n",
    "        \n",
    "            h_arry = np.array([0,0,0,0,h,0])\n",
    "            yyn = (RK(r, c, x0+h_arry)[-1,:3]-yn)/(h)\n",
    "            \n",
    "            h_arrz = np.array([0,0,0,0,0,h])\n",
    "            yzn = (RK(r,c, x0+h_arrz)[-1,:3]-yn)/(h)\n",
    "        \n",
    "            J = np.matrix([[*yrn],[*yyn],[*yzn]]).T\n",
    "            \n",
    "            xn0 = x0[-2:]\n",
    "            xn1 = xn0-(J**(-1)@yn).A1[-2:]\n",
    "            x0 = np.array([0, 0, 0, 1, *xn1])\n",
    "            #x0 = x0/np.linalg.norm(x0, ord=2)\n",
    "            c[3] = c[3] - (J**(-1)@yn).A1[0]\n",
    "        x0a[k,i] = x0\n",
    "        ca[k,i] = c[3]"
   ]
  },
  {
   "cell_type": "code",
   "execution_count": 585,
   "id": "6fb5ef7e-7f46-41c8-824c-a6ba32335466",
   "metadata": {},
   "outputs": [
    {
     "data": {
      "text/plain": [
       "array([[ 0.00000000e+00+0.j,  0.00000000e+00+0.j,  0.00000000e+00+0.j,\n",
       "         1.00000000e+00+0.j,  4.11108911e-01+0.j,  3.87304336e-01+0.j],\n",
       "       [ 1.10249075e-05+0.j,  1.64935179e-03+0.j,  1.52506388e-03+0.j,\n",
       "         9.99642372e-01+0.j,  4.11148727e-01+0.j,  3.72209787e-01+0.j],\n",
       "       [ 4.34902540e-05+0.j,  3.29553895e-03+0.j,  2.98990216e-03+0.j,\n",
       "         9.98583019e-01+0.j,  4.11257893e-01+0.j,  3.57312530e-01+0.j],\n",
       "       ...,\n",
       "       [-2.84743419e-06+0.j,  1.08172826e-03+0.j,  1.45352838e-04+0.j,\n",
       "         1.30304411e-01+0.j, -1.34184346e-01+0.j, -1.64184403e-02+0.j],\n",
       "       [-1.24705434e-06+0.j,  5.41805057e-04+0.j,  7.57253583e-05+0.j,\n",
       "         1.30478203e-01+0.j, -1.34141207e-01+0.j, -1.82572324e-02+0.j],\n",
       "       [-7.02090347e-07+0.j,  2.74687773e-06+0.j, -1.30057742e-06+0.j,\n",
       "         1.30536839e-01+0.j, -1.34126574e-01+0.j, -2.01027188e-02+0.j]],\n",
       "      dtype=complex64)"
      ]
     },
     "execution_count": 585,
     "metadata": {},
     "output_type": "execute_result"
    }
   ],
   "source": [
    "# c = np.array([0, 3, 0, 94, r2, eta])\n",
    "# x0 = np.array([ 0,  0,  0,-1.62981451e-09,  3.27418093e-11, -9.54969437e-11])\n",
    "# r = np.linspace(eta/(1-eta), 1/(1-eta), 5000)\n",
    "nn = 7\n",
    "nm = 7\n",
    "y = RK(r, np.array([0, lam[nm], 0, ca[nn, nm], r2[nm], eta]), x0a[nn, nm])\n",
    "y"
   ]
  },
  {
   "cell_type": "code",
   "execution_count": 587,
   "id": "15d303db-3f1a-467f-a5e2-88f08c69702b",
   "metadata": {},
   "outputs": [
    {
     "data": {
      "text/plain": [
       "array([2.09895362-1.57581957j, 2.09895362+1.57581957j,\n",
       "       3.16910229+0.j        , 5.47817593-2.26474961j,\n",
       "       5.47817593+2.26474961j, 8.2577365 -1.07576247j,\n",
       "       8.2577365 +1.07576247j])"
      ]
     },
     "execution_count": 587,
     "metadata": {},
     "output_type": "execute_result"
    },
    {
     "name": "stderr",
     "output_type": "stream",
     "text": [
      "/tmp/ipykernel_13934/2208640255.py:6: ComplexWarning: Casting complex values to real discards the imaginary part\n",
      "  ks[i] = chebyfit.deriv(1).roots()[2]\n"
     ]
    },
    {
     "data": {
      "text/plain": [
       "array([2.10685359-1.56113664j, 2.10685359+1.56113664j,\n",
       "       3.1831536 +0.j        , 5.47076135-2.24805455j,\n",
       "       5.47076135+2.24805455j, 8.24954951-1.07086981j,\n",
       "       8.24954951+1.07086981j])"
      ]
     },
     "execution_count": 587,
     "metadata": {},
     "output_type": "execute_result"
    },
    {
     "data": {
      "text/plain": [
       "array([2.12650229-1.52858136j, 2.12650229+1.52858136j,\n",
       "       3.20916786+0.j        , 5.45150938-2.22279515j,\n",
       "       5.45150938+2.22279515j, 8.23914935-1.06595831j,\n",
       "       8.23914935+1.06595831j])"
      ]
     },
     "execution_count": 587,
     "metadata": {},
     "output_type": "execute_result"
    },
    {
     "data": {
      "text/plain": [
       "array([2.12196056-1.47352302j, 2.12196056+1.47352302j,\n",
       "       3.25206058+0.j        , 5.35426559-2.15405434j,\n",
       "       5.35426559+2.15405434j, 8.13254107-1.03455437j,\n",
       "       8.13254107+1.03455437j])"
      ]
     },
     "execution_count": 587,
     "metadata": {},
     "output_type": "execute_result"
    },
    {
     "data": {
      "text/plain": [
       "array([2.15254866-1.42165494j, 2.15254866+1.42165494j,\n",
       "       3.32544494+0.j        , 5.38839377-2.13689117j,\n",
       "       5.38839377+2.13689117j, 8.20610148-1.05032698j,\n",
       "       8.20610148+1.05032698j])"
      ]
     },
     "execution_count": 587,
     "metadata": {},
     "output_type": "execute_result"
    },
    {
     "data": {
      "text/plain": [
       "array([2.14124695-1.36404478j, 2.14124695+1.36404478j,\n",
       "       3.42843   +0.j        , 5.35242137-2.08549611j,\n",
       "       5.35242137+2.08549611j, 8.1865684 -1.04116316j,\n",
       "       8.1865684 +1.04116316j])"
      ]
     },
     "execution_count": 587,
     "metadata": {},
     "output_type": "execute_result"
    },
    {
     "data": {
      "text/plain": [
       "array([2.11051766-1.31546779j, 2.11051766+1.31546779j,\n",
       "       3.56227108+0.j        , 5.31666391-2.03642222j,\n",
       "       5.31666391+2.03642222j, 8.16736736-1.03245111j,\n",
       "       8.16736736+1.03245111j])"
      ]
     },
     "execution_count": 587,
     "metadata": {},
     "output_type": "execute_result"
    },
    {
     "data": {
      "text/plain": [
       "array([2.06371924-1.28204991j, 2.06371924+1.28204991j,\n",
       "       3.71895521+0.j        , 5.2816006 -1.99334683j,\n",
       "       5.2816006 +1.99334683j, 8.14939811-1.0246614j ,\n",
       "       8.14939811+1.0246614j ])"
      ]
     },
     "execution_count": 587,
     "metadata": {},
     "output_type": "execute_result"
    },
    {
     "data": {
      "text/plain": [
       "array([2.00634804-1.26629109j, 2.00634804+1.26629109j,\n",
       "       3.88681788+0.j        , 5.24709318-1.95812692j,\n",
       "       5.24709318+1.95812692j, 8.13318595-1.01806738j,\n",
       "       8.13318595+1.01806738j])"
      ]
     },
     "execution_count": 587,
     "metadata": {},
     "output_type": "execute_result"
    },
    {
     "data": {
      "text/plain": [
       "array([1.94342841-1.2678742j , 1.94342841+1.2678742j ,\n",
       "       4.05548914+0.j        , 5.21258196-1.9313826j ,\n",
       "       5.21258196+1.9313826j , 8.11892611-1.01285003j,\n",
       "       8.11892611+1.01285003j])"
      ]
     },
     "execution_count": 587,
     "metadata": {},
     "output_type": "execute_result"
    }
   ],
   "source": [
    "cheby = np.polynomial.chebyshev.Chebyshev\n",
    "ks = np.zeros(len(r2))\n",
    "for i in range(len(r2)):\n",
    "    chebyfit = cheby.fit(lam,abs(ca[i]),8)\n",
    "    #chebyfit.deriv(1).roots()\n",
    "    ks[i] = chebyfit.deriv(1).roots()[2]"
   ]
  },
  {
   "cell_type": "code",
   "execution_count": 588,
   "id": "dfb0b5ed-80f1-4f0c-a147-1db4aa6d9108",
   "metadata": {},
   "outputs": [],
   "source": [
    "r1s = np.zeros(len(r2))\n",
    "for i in range(len(r2)):\n",
    "    r1s[i] = min(abs(ca[i]))"
   ]
  },
  {
   "cell_type": "code",
   "execution_count": 607,
   "id": "40d1652d-1b04-46ed-a03c-581ad145f0dc",
   "metadata": {},
   "outputs": [
    {
     "data": {
      "image/png": "[encoded data removed]",
      "text/plain": [
       "<Figure size 800x400 with 2 Axes>"
      ]
     },
     "metadata": {},
     "output_type": "display_data"
    }
   ],
   "source": [
    "fig = plt.figure(figsize=(8,4), layout='constrained')\n",
    "fig.suptitle(r'$m=0, \\eta={0:1.5f}$'.format(eta))\n",
    "ax1 = fig.add_subplot(1, 2, 1, title='', xlabel=r'$R_2$', ylabel=r'$R_1$', )\n",
    "ax2 = fig.add_subplot(1, 2, 2, title='', xlabel=r'$R_2$', ylabel=r'$k_c$', )\n",
    "ax1.scatter(r2, r1s)\n",
    "ax2.scatter(r2, ks)\n",
    "plt.show;"
   ]
  }
 ],
 "metadata": {
  "kernelspec": {
   "display_name": "Python 3 (ipykernel)",
   "language": "python",
   "name": "python3"
  },
  "language_info": {
   "codemirror_mode": {
    "name": "ipython",
    "version": 3
   },
   "file_extension": ".py",
   "mimetype": "text/x-python",
   "name": "python",
   "nbconvert_exporter": "python",
   "pygments_lexer": "ipython3",
   "version": "3.12.10"
  }
 },
 "nbformat": 4,
 "nbformat_minor": 5
}
